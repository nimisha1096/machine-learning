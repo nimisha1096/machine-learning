{
 "cells": [
  {
   "cell_type": "code",
   "execution_count": 10,
   "metadata": {},
   "outputs": [
    {
     "name": "stdout",
     "output_type": "stream",
     "text": [
      "enter the test size.1\n",
      "[2 1 1 1 0 1 2 0 0 0 2 1 0 2 0]\n",
      "[2 1 2 1 0 1 2 0 0 0 2 1 0 2 0]\n",
      "0.9333333333333333\n",
      "press 1 to continue1\n",
      "enter the test size.3\n",
      "[2 0 2 2 2 0 0 0 0 0 1 1 0 2 1 2 0 0 1 0 2 0 2 2 1 0 1 0 1 0 1 1 2 0 0 0 2\n",
      " 1 0 2 1 0 0 1 1]\n",
      "[2 0 2 2 2 0 0 0 0 0 1 1 0 2 1 2 0 0 1 0 2 0 2 2 2 0 1 0 1 0 1 1 2 0 0 0 2\n",
      " 1 0 2 1 0 0 1 1]\n",
      "0.9777777777777777\n",
      "press 1 to continue1\n",
      "enter the test size.2\n",
      "[1 2 2 1 2 0 2 2 1 2 0 2 0 0 1 1 1 2 0 0 1 1 0 1 0 1 0 1 2 0]\n",
      "[1 2 2 1 2 0 2 2 1 2 0 2 0 0 1 1 1 2 0 0 1 1 0 1 0 2 0 1 2 0]\n",
      "0.9666666666666667\n",
      "press 1 to continue2\n"
     ]
    },
    {
     "data": {
      "image/png": "[encoded data removed]",
      "text/plain": [
       "<Figure size 432x288 with 1 Axes>"
      ]
     },
     "metadata": {},
     "output_type": "display_data"
    }
   ],
   "source": [
    "#!/usr/bin/env python3\n",
    "import os\n",
    "import numpy\n",
    "from sklearn.datasets import load_iris\n",
    "from sklearn import tree\n",
    "from sklearn.model_selection import train_test_split\n",
    "from sklearn.metrics import accuracy_score\n",
    "import matplotlib.pyplot as plt\n",
    "\n",
    "#loading iris data sets\n",
    "iris=load_iris()\n",
    "\n",
    "#training flower features data value is stored in iris.data\n",
    "#output is accordingly stored in iris.target\n",
    "#now splitting into trained and test datasets\n",
    "l1=[]\n",
    "l2=[]\n",
    "\n",
    "choice=1\n",
    "while choice==1 :\n",
    "    s=float(input(\"enter the test size\"))\n",
    "    train_data,test_data,train_target,test_target=train_test_split(iris.data,iris.target,test_size=s)\n",
    "    l1.append(s)\n",
    "            \n",
    "\n",
    "    # team_iris &train_target data will be using under fit method\n",
    "    #calling decision tree classifier\n",
    "\n",
    "    dsclf=tree.DecisionTreeClassifier()\n",
    "\n",
    "    #now training data with decision \n",
    "    trained=dsclf.fit(train_data,train_target)\n",
    "\n",
    "    #test with test_iris\n",
    "    output=trained.predict(test_data)\n",
    "    print(output)\n",
    "\n",
    "    #actual output\n",
    "    print(test_target)\n",
    "\n",
    "    #calling accuracy score\n",
    "    pct=accuracy_score(test_target,output)\n",
    "    print(pct)\n",
    "    l2.append(pct)\n",
    "    choice=int(input(\"press 1 to continue\"))\n",
    "\n",
    "#checking of accuracy\n",
    "#plotting the graph between test size and accuracy percentage\n",
    "plt.xlabel(\"test size\")\n",
    "plt.ylabel(\"accuracy percentage\")\n",
    "plt.plot(l1,l2,label=\"accuracy check\",color=\"yellow\")\n",
    "plt.show()\n"
   ]
  },
  {
   "cell_type": "code",
   "execution_count": null,
   "metadata": {},
   "outputs": [],
   "source": []
  },
  {
   "cell_type": "code",
   "execution_count": null,
   "metadata": {},
   "outputs": [],
   "source": []
  }
 ],
 "metadata": {
  "kernelspec": {
   "display_name": "Python 3",
   "language": "python",
   "name": "python3"
  },
  "language_info": {
   "codemirror_mode": {
    "name": "ipython",
    "version": 3
   },
   "file_extension": ".py",
   "mimetype": "text/x-python",
   "name": "python",
   "nbconvert_exporter": "python",
   "pygments_lexer": "ipython3",
   "version": "3.5.2"
  }
 },
 "nbformat": 4,
 "nbformat_minor": 2
}
