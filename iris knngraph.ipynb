{
 "cells": [
  {
   "cell_type": "code",
   "execution_count": 2,
   "metadata": {},
   "outputs": [
    {
     "name": "stdout",
     "output_type": "stream",
     "text": [
      "enter the test size0.1\n",
      "actual output:\n",
      "[1 0 0 2 2 2 0 1 0 0 0 0 0 0 0]\n",
      "predicted output through knn algo\n",
      "[1 0 0 2 1 2 0 1 0 0 0 0 0 0 0]\n",
      "accuracy for knn\n",
      "0.9333333333333333\n",
      "press 1 to continue1\n",
      "enter the test size0.2\n",
      "actual output:\n",
      "[2 2 2 0 0 1 2 0 1 0 2 0 2 2 1 1 1 2 1 2 1 1 2 2 0 0 1 2 0 1]\n",
      "predicted output through knn algo\n",
      "[2 2 2 0 0 1 2 0 2 0 1 0 2 2 1 1 1 2 1 2 1 1 2 2 0 0 1 2 0 1]\n",
      "accuracy for knn\n",
      "0.9333333333333333\n",
      "press 1 to continue1\n",
      "enter the test size0.5\n",
      "actual output:\n",
      "[0 0 0 0 1 0 1 0 2 2 2 1 0 0 0 1 1 2 1 2 0 1 1 0 1 1 0 0 2 0 1 2 2 1 1 1 1\n",
      " 0 2 0 1 1 2 0 0 0 2 0 0 2 0 1 2 0 1 2 0 1 2 2 1 2 2 1 2 2 0 2 2 0 0 1 2 2\n",
      " 2]\n",
      "predicted output through knn algo\n",
      "[0 0 0 0 1 0 1 0 2 2 2 1 0 0 0 1 1 2 1 2 0 1 1 0 1 1 0 0 2 0 1 2 2 1 1 2 1\n",
      " 0 2 0 1 1 2 0 0 0 2 0 0 2 0 2 2 0 1 2 0 1 2 2 1 2 2 1 2 2 0 2 2 0 0 1 2 1\n",
      " 2]\n",
      "accuracy for knn\n",
      "0.96\n",
      "press 1 to continue2\n"
     ]
    },
    {
     "data": {
      "image/png": "[encoded data removed]",
      "text/plain": [
       "<Figure size 432x288 with 1 Axes>"
      ]
     },
     "metadata": {},
     "output_type": "display_data"
    }
   ],
   "source": [
    "#! /usr/bin/python3\n",
    "import numpy\n",
    "from sklearn.datasets import load_iris\n",
    "from sklearn import tree\n",
    "from sklearn.neighbors import KNeighborsClassifier\n",
    "from sklearn.model_selection import train_test_split\n",
    "from sklearn.metrics import accuracy_score\n",
    "import matplotlib.pyplot as plt\n",
    "iris=load_iris()\n",
    "\n",
    "#list to store different sizes\n",
    "l1=[]\n",
    "\n",
    "#list to store accuracy score for knn algo\n",
    "l2=[]\n",
    "\n",
    "choice=1\n",
    "while choice==1:\n",
    "    s=float(input(\"enter the test size\"))\n",
    "    #splitting\n",
    "    train_iris,test_iris,train_target,test_target=train_test_split(iris.data,iris.target,test_size=s)\n",
    "    l1.append(s)\n",
    "    #calling knn classifier\n",
    "    knclf=KNeighborsClassifier(n_neighbors=3)\n",
    "    #data training\n",
    "    trained_knclf=knclf.fit(train_iris,train_target)\n",
    "    #predicting output\n",
    "    output_knclf=trained_knclf.predict(test_iris)\n",
    "    \n",
    "    #printing output\n",
    "    print(\"actual output:\")\n",
    "    print(test_target)\n",
    "    print(\"predicted output through knn algo\")\n",
    "    print(output_knclf)\n",
    "    \n",
    "    #checking the accuracy %\n",
    "    pct=accuracy_score(test_target,output_knclf)\n",
    "    print(\"accuracy for knn\")\n",
    "    print(pct)\n",
    "    l2.append(pct)\n",
    "    choice=int(input(\"press 1 to continue\"))\n",
    "\n",
    "#plotting the graph\n",
    "plt.xlabel(\"actual output\")\n",
    "plt.ylabel(\"predicted output\")\n",
    "plt.plot(l1,l2,label=\"knn\",color=\"Red\")\n",
    "plt.show()\n",
    "\n"
   ]
  },
  {
   "cell_type": "code",
   "execution_count": null,
   "metadata": {},
   "outputs": [],
   "source": []
  }
 ],
 "metadata": {
  "kernelspec": {
   "display_name": "Python 3",
   "language": "python",
   "name": "python3"
  },
  "language_info": {
   "codemirror_mode": {
    "name": "ipython",
    "version": 3
   },
   "file_extension": ".py",
   "mimetype": "text/x-python",
   "name": "python",
   "nbconvert_exporter": "python",
   "pygments_lexer": "ipython3",
   "version": "3.5.2"
  }
 },
 "nbformat": 4,
 "nbformat_minor": 2
}
